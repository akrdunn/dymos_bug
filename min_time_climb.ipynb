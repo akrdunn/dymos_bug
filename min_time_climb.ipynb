{
 "cells": [
  {
   "cell_type": "code",
   "execution_count": 1,
   "metadata": {},
   "outputs": [
    {
     "name": "stdout",
     "output_type": "stream",
     "text": [
      "Unable to import mpi4py. Parallel processing unavailable.\n",
      "Unable to import petsc4py. Parallel processing unavailable.\n",
      "Unable to import petsc4py. Parallel processing unavailable.\n"
     ]
    },
    {
     "name": "stderr",
     "output_type": "stream",
     "text": [
      "C:\\Users\\z1137290\\Anaconda3\\envs\\mdao\\lib\\site-packages\\openmdao\\core\\notebook_mode.py:27: UserWarning:Tabulate is not installed run `pip install openmdao[notebooks]` to install required dependencies. Using ASCII for outputs.\n",
      "C:\\Users\\z1137290\\Anaconda3\\envs\\mdao\\lib\\site-packages\\pyoptsparse\\pyOpt_MPI.py:50: UserWarning: mpi4py could not be imported. mpi4py is required to use the parallel gradient analysis and parallel objective analysis for non-gradient based optimizers. Continuing using a dummy MPI module from pyOptSparse.\n",
      "  warnings.warn(warn)\n"
     ]
    }
   ],
   "source": [
    "import matplotlib.pyplot as plt\n",
    "import openmdao.api as om\n",
    "import dymos as dm\n",
    "# from dymos.examples.min_time_climb.min_time_climb_ode import MinTimeClimbODE\n",
    "from dymos.examples.plotting import plot_results\n",
    "\n",
    "from dymos.models.atmosphere import USatm1976Comp\n",
    "from dymos.examples.min_time_climb.aero import AeroGroup\n",
    "from dymos.examples.min_time_climb.prop import PropGroup\n",
    "from dymos.models.eom import FlightPathEOM2D"
   ]
  },
  {
   "cell_type": "markdown",
   "metadata": {},
   "source": [
    "**Build ODE**"
   ]
  },
  {
   "cell_type": "code",
   "execution_count": 2,
   "metadata": {},
   "outputs": [],
   "source": [
    "class MinTimeClimbODE(om.Group):\n",
    "\n",
    "    def initialize(self):\n",
    "        self.options.declare('num_nodes', types=int)\n",
    "\n",
    "    def setup(self):\n",
    "        nn = self.options['num_nodes']\n",
    "\n",
    "        self.add_subsystem(name='atmos',\n",
    "                           subsys=USatm1976Comp(num_nodes=nn),\n",
    "                           promotes_inputs=['h'])\n",
    "\n",
    "        self.add_subsystem(name='aero',\n",
    "                           subsys=AeroGroup(num_nodes=nn),\n",
    "                           promotes_inputs=['v', 'alpha', 'S'])\n",
    "\n",
    "        self.connect('atmos.sos', 'aero.sos')\n",
    "        self.connect('atmos.rho', 'aero.rho')\n",
    "\n",
    "        self.add_subsystem(name='prop',\n",
    "                           subsys=PropGroup(num_nodes=nn),\n",
    "                           promotes_inputs=['h', 'Isp', 'throttle'])\n",
    "\n",
    "        self.connect('aero.mach', 'prop.mach')\n",
    "\n",
    "        self.add_subsystem(name='flight_dynamics',\n",
    "                           subsys=FlightPathEOM2D(num_nodes=nn),\n",
    "                           promotes_inputs=['m', 'v', 'gam', 'alpha'])\n",
    "\n",
    "        self.connect('aero.f_drag', 'flight_dynamics.D')\n",
    "        self.connect('aero.f_lift', 'flight_dynamics.L')\n",
    "        self.connect('prop.thrust', 'flight_dynamics.T')\n",
    "        \n",
    "        self.add_subsystem('testcomp', om.ExecComp('testout=test', shape=40), promotes=['*'])"
   ]
  },
  {
   "cell_type": "markdown",
   "metadata": {},
   "source": [
    "**Instantiate the problem and configure the optimization driver**"
   ]
  },
  {
   "cell_type": "code",
   "execution_count": 3,
   "metadata": {},
   "outputs": [],
   "source": [
    "p = om.Problem(model=om.Group())\n",
    "p.driver = om.ScipyOptimizeDriver()\n",
    "p.driver.options['optimizer'] = 'SLSQP'\n",
    "p.driver.declare_coloring()"
   ]
  },
  {
   "cell_type": "markdown",
   "metadata": {},
   "source": [
    "**Instantiate the trajectory and phase**"
   ]
  },
  {
   "cell_type": "code",
   "execution_count": 4,
   "metadata": {},
   "outputs": [
    {
     "data": {
      "text/plain": [
       "<dymos.trajectory.trajectory.Trajectory at 0x1e9bde8c970>"
      ]
     },
     "execution_count": 4,
     "metadata": {},
     "output_type": "execute_result"
    }
   ],
   "source": [
    "traj = dm.Trajectory()\n",
    "\n",
    "phase = dm.Phase(ode_class=MinTimeClimbODE,\n",
    "                 transcription=dm.GaussLobatto(num_segments=15, compressed=False))\n",
    "\n",
    "traj.add_phase('phase0', phase)\n",
    "\n",
    "p.model.add_subsystem('traj', traj)"
   ]
  },
  {
   "cell_type": "markdown",
   "metadata": {},
   "source": [
    "**Set the options on the optimization variables**"
   ]
  },
  {
   "cell_type": "code",
   "execution_count": 5,
   "metadata": {},
   "outputs": [],
   "source": [
    "phase.set_time_options(fix_initial=True, duration_bounds=(50, 400),\n",
    "                       duration_ref=100.0)\n",
    "\n",
    "phase.add_state('r', fix_initial=True, lower=0, upper=1.0E6, units='m',\n",
    "                ref=1.0E3, defect_ref=1.0E3,\n",
    "                rate_source='flight_dynamics.r_dot')\n",
    "\n",
    "phase.add_state('h', fix_initial=True, lower=0, upper=20000.0, units='m',\n",
    "                ref=1.0E2, defect_ref=1.0E2,\n",
    "                rate_source='flight_dynamics.h_dot')\n",
    "\n",
    "phase.add_state('v', fix_initial=True, lower=10.0, units='m/s',\n",
    "                ref=1.0E2, defect_ref=1.0E2,\n",
    "                rate_source='flight_dynamics.v_dot')\n",
    "\n",
    "phase.add_state('gam', fix_initial=True, lower=-1.5, upper=1.5, units='rad',\n",
    "                ref=1.0, defect_ref=1.0,\n",
    "                rate_source='flight_dynamics.gam_dot')\n",
    "\n",
    "phase.add_state('m', fix_initial=True, lower=10.0, upper=1.0E5, units='kg',\n",
    "                ref=1.0E3, defect_ref=1.0E3,\n",
    "                rate_source='prop.m_dot')\n",
    "\n",
    "phase.add_control('alpha', units='deg', lower=-8.0, upper=8.0, scaler=1.0,\n",
    "                  rate_continuity=True, rate_continuity_scaler=100.0,\n",
    "                  rate2_continuity=False)\n",
    "\n",
    "phase.add_parameter('S', val=49.2386, units='m**2', opt=False, targets=['S'])\n",
    "phase.add_parameter('Isp', val=1600.0, units='s', opt=False, targets=['Isp'])\n",
    "phase.add_parameter('throttle', val=1.0, opt=False, targets=['throttle'])\n",
    "\n",
    "phase.add_parameter('test', val=40*[1], opt=False, dynamic=False, targets=['test'])"
   ]
  },
  {
   "cell_type": "markdown",
   "metadata": {},
   "source": [
    "**Setup the boundary and path constraints**"
   ]
  },
  {
   "cell_type": "code",
   "execution_count": 6,
   "metadata": {},
   "outputs": [],
   "source": [
    "phase.add_boundary_constraint('h', loc='final', equals=20000, scaler=1.0E-3)\n",
    "phase.add_boundary_constraint('aero.mach', loc='final', equals=1.0)\n",
    "phase.add_boundary_constraint('gam', loc='final', equals=0.0)\n",
    "\n",
    "phase.add_path_constraint(name='h', lower=100.0, upper=20000, ref=20000)\n",
    "phase.add_path_constraint(name='aero.mach', lower=0.1, upper=1.8)"
   ]
  },
  {
   "cell_type": "markdown",
   "metadata": {},
   "source": [
    "**Minimize time at the end of the phase**"
   ]
  },
  {
   "cell_type": "code",
   "execution_count": 7,
   "metadata": {},
   "outputs": [],
   "source": [
    "phase.add_objective('time', loc='final', ref=1.0)\n",
    "\n",
    "p.model.linear_solver = om.DirectSolver()"
   ]
  },
  {
   "cell_type": "markdown",
   "metadata": {},
   "source": [
    "**Setup the problem and set the initial guess**"
   ]
  },
  {
   "cell_type": "code",
   "execution_count": 8,
   "metadata": {},
   "outputs": [],
   "source": [
    "p.setup(check=True)\n",
    "\n",
    "p['traj.phase0.t_initial'] = 0.0\n",
    "p['traj.phase0.t_duration'] = 500\n",
    "\n",
    "p['traj.phase0.states:r'] = phase.interpolate(ys=[0.0, 50000.0], nodes='state_input')\n",
    "p['traj.phase0.states:h'] = phase.interpolate(ys=[100.0, 20000.0], nodes='state_input')\n",
    "p['traj.phase0.states:v'] = phase.interpolate(ys=[135.964, 283.159], nodes='state_input')\n",
    "p['traj.phase0.states:gam'] = phase.interpolate(ys=[0.0, 0.0], nodes='state_input')\n",
    "p['traj.phase0.states:m'] = phase.interpolate(ys=[19030.468, 10000.], nodes='state_input')\n",
    "p['traj.phase0.controls:alpha'] = phase.interpolate(ys=[0.0, 0.0], nodes='control_input')"
   ]
  },
  {
   "cell_type": "markdown",
   "metadata": {},
   "source": [
    "**Solve for the optimal trajectory**"
   ]
  },
  {
   "cell_type": "code",
   "execution_count": 9,
   "metadata": {},
   "outputs": [
    {
     "name": "stdout",
     "output_type": "stream",
     "text": [
      "INFO: checking out_of_order\n",
      "INFO: checking system\n",
      "INFO: checking solvers\n",
      "INFO: checking dup_inputs\n",
      "INFO: checking missing_recorders\n",
      "WARNING: The Problem has no recorder of any kind attached\n",
      "INFO: checking comp_has_no_outputs\n",
      "INFO: checking auto_ivc_warnings\n",
      "INFO: checking out_of_order\n",
      "INFO: checking system\n",
      "INFO: checking solvers\n",
      "INFO: checking dup_inputs\n",
      "INFO: checking missing_recorders\n",
      "WARNING: The Problem has no recorder of any kind attached\n",
      "INFO: checking comp_has_no_outputs\n",
      "INFO: checking auto_ivc_warnings\n",
      "Full total jacobian was computed 3 times, taking 0.208789 seconds.\n",
      "Total jacobian shape: (181, 191) \n",
      "\n",
      "\n",
      "Jacobian shape: (181, 191)  ( 5.47% nonzero)\n",
      "FWD solves: 14   REV solves: 0\n",
      "Total colors vs. total size: 14 vs 191  (92.7% improvement)\n",
      "\n",
      "Sparsity computed using tolerance: 1e-25\n",
      "Time to compute sparsity: 0.208789 sec.\n",
      "Time to compute coloring: 0.000000 sec.\n",
      "Optimization terminated successfully    (Exit mode 0)\n",
      "            Current function value: [324.05959145]\n",
      "            Iterations: 96\n",
      "            Function evaluations: 109\n",
      "            Gradient evaluations: 96\n",
      "Optimization Complete\n",
      "-----------------------------------\n"
     ]
    },
    {
     "ename": "ValueError",
     "evalue": "could not broadcast input array from shape (40) into shape (75)",
     "output_type": "error",
     "traceback": [
      "\u001b[1;31m---------------------------------------------------------------------------\u001b[0m",
      "\u001b[1;31mValueError\u001b[0m                                Traceback (most recent call last)",
      "\u001b[1;32m<ipython-input-9-32d55fe8f00f>\u001b[0m in \u001b[0;36m<module>\u001b[1;34m\u001b[0m\n\u001b[1;32m----> 1\u001b[1;33m \u001b[0mdm\u001b[0m\u001b[1;33m.\u001b[0m\u001b[0mrun_problem\u001b[0m\u001b[1;33m(\u001b[0m\u001b[0mp\u001b[0m\u001b[1;33m,\u001b[0m \u001b[0mrefine_iteration_limit\u001b[0m\u001b[1;33m=\u001b[0m\u001b[1;36m3\u001b[0m\u001b[1;33m,\u001b[0m \u001b[0msolution_record_file\u001b[0m\u001b[1;33m=\u001b[0m\u001b[1;34m'min_time_climb.db'\u001b[0m\u001b[1;33m)\u001b[0m\u001b[1;33m\u001b[0m\u001b[1;33m\u001b[0m\u001b[0m\n\u001b[0m",
      "\u001b[1;32m~\\Anaconda3\\envs\\mdao\\lib\\site-packages\\dymos\\run_problem.py\u001b[0m in \u001b[0;36mrun_problem\u001b[1;34m(problem, refine_method, refine_iteration_limit, run_driver, simulate, restart, solution_record_file, simulation_record_file, make_plots, plot_dir)\u001b[0m\n\u001b[0;32m     72\u001b[0m     \u001b[1;32mif\u001b[0m \u001b[0mrun_driver\u001b[0m\u001b[1;33m:\u001b[0m\u001b[1;33m\u001b[0m\u001b[1;33m\u001b[0m\u001b[0m\n\u001b[0;32m     73\u001b[0m         \u001b[0mproblem\u001b[0m\u001b[1;33m.\u001b[0m\u001b[0mrun_driver\u001b[0m\u001b[1;33m(\u001b[0m\u001b[1;33m)\u001b[0m\u001b[1;33m\u001b[0m\u001b[1;33m\u001b[0m\u001b[0m\n\u001b[1;32m---> 74\u001b[1;33m         \u001b[0m_refine_iter\u001b[0m\u001b[1;33m(\u001b[0m\u001b[0mproblem\u001b[0m\u001b[1;33m,\u001b[0m \u001b[0mrefine_iteration_limit\u001b[0m\u001b[1;33m,\u001b[0m \u001b[0mrefine_method\u001b[0m\u001b[1;33m)\u001b[0m\u001b[1;33m\u001b[0m\u001b[1;33m\u001b[0m\u001b[0m\n\u001b[0m\u001b[0;32m     75\u001b[0m     \u001b[1;32melse\u001b[0m\u001b[1;33m:\u001b[0m\u001b[1;33m\u001b[0m\u001b[1;33m\u001b[0m\u001b[0m\n\u001b[0;32m     76\u001b[0m         \u001b[0mproblem\u001b[0m\u001b[1;33m.\u001b[0m\u001b[0mrun_model\u001b[0m\u001b[1;33m(\u001b[0m\u001b[1;33m)\u001b[0m\u001b[1;33m\u001b[0m\u001b[1;33m\u001b[0m\u001b[0m\n",
      "\u001b[1;32m~\\Anaconda3\\envs\\mdao\\lib\\site-packages\\dymos\\grid_refinement\\refinement.py\u001b[0m in \u001b[0;36m_refine_iter\u001b[1;34m(problem, refine_iteration_limit, refine_method)\u001b[0m\n\u001b[0;32m     35\u001b[0m         \u001b[1;32mwith\u001b[0m \u001b[0mopen\u001b[0m\u001b[1;33m(\u001b[0m\u001b[0mout_file\u001b[0m\u001b[1;33m,\u001b[0m \u001b[1;34m'w+'\u001b[0m\u001b[1;33m)\u001b[0m \u001b[1;32mas\u001b[0m \u001b[0mf\u001b[0m\u001b[1;33m:\u001b[0m\u001b[1;33m\u001b[0m\u001b[1;33m\u001b[0m\u001b[0m\n\u001b[0;32m     36\u001b[0m             \u001b[1;32mfor\u001b[0m \u001b[0mi\u001b[0m \u001b[1;32min\u001b[0m \u001b[0mrange\u001b[0m\u001b[1;33m(\u001b[0m\u001b[0mrefine_iteration_limit\u001b[0m\u001b[1;33m)\u001b[0m\u001b[1;33m:\u001b[0m\u001b[1;33m\u001b[0m\u001b[1;33m\u001b[0m\u001b[0m\n\u001b[1;32m---> 37\u001b[1;33m                 \u001b[0mrefine_results\u001b[0m \u001b[1;33m=\u001b[0m \u001b[0mcheck_error\u001b[0m\u001b[1;33m(\u001b[0m\u001b[0mphases\u001b[0m\u001b[1;33m)\u001b[0m\u001b[1;33m\u001b[0m\u001b[1;33m\u001b[0m\u001b[0m\n\u001b[0m\u001b[0;32m     38\u001b[0m \u001b[1;33m\u001b[0m\u001b[0m\n\u001b[0;32m     39\u001b[0m                 refined_phases = [phase_path for phase_path in refine_results if\n",
      "\u001b[1;32m~\\Anaconda3\\envs\\mdao\\lib\\site-packages\\dymos\\grid_refinement\\error_estimation.py\u001b[0m in \u001b[0;36mcheck_error\u001b[1;34m(phases)\u001b[0m\n\u001b[0;32m    379\u001b[0m         \u001b[1;31m# Let f by the evaluated state rates given the interpolation of the states and controls\u001b[0m\u001b[1;33m\u001b[0m\u001b[1;33m\u001b[0m\u001b[1;33m\u001b[0m\u001b[0m\n\u001b[0;32m    380\u001b[0m         \u001b[1;31m# onto the new grid.\u001b[0m\u001b[1;33m\u001b[0m\u001b[1;33m\u001b[0m\u001b[1;33m\u001b[0m\u001b[0m\n\u001b[1;32m--> 381\u001b[1;33m         \u001b[0mx\u001b[0m\u001b[1;33m,\u001b[0m \u001b[0m_\u001b[0m\u001b[1;33m,\u001b[0m \u001b[0m_\u001b[0m\u001b[1;33m,\u001b[0m \u001b[0mf\u001b[0m \u001b[1;33m=\u001b[0m \u001b[0meval_ode_on_grid\u001b[0m\u001b[1;33m(\u001b[0m\u001b[0mphase\u001b[0m\u001b[1;33m=\u001b[0m\u001b[0mphase\u001b[0m\u001b[1;33m,\u001b[0m \u001b[0mtranscription\u001b[0m\u001b[1;33m=\u001b[0m\u001b[0mnew_tx\u001b[0m\u001b[1;33m)\u001b[0m\u001b[1;33m\u001b[0m\u001b[1;33m\u001b[0m\u001b[0m\n\u001b[0m\u001b[0;32m    382\u001b[0m \u001b[1;33m\u001b[0m\u001b[0m\n\u001b[0;32m    383\u001b[0m         \u001b[1;31m# x_hat is the state value at each node computed using a quadrature\u001b[0m\u001b[1;33m\u001b[0m\u001b[1;33m\u001b[0m\u001b[1;33m\u001b[0m\u001b[0m\n",
      "\u001b[1;32m~\\Anaconda3\\envs\\mdao\\lib\\site-packages\\dymos\\grid_refinement\\error_estimation.py\u001b[0m in \u001b[0;36meval_ode_on_grid\u001b[1;34m(phase, transcription)\u001b[0m\n\u001b[0;32m    140\u001b[0m                                                          'ode_init_kwargs'])\n\u001b[0;32m    141\u001b[0m     \u001b[0mp_refine\u001b[0m\u001b[1;33m.\u001b[0m\u001b[0mmodel\u001b[0m\u001b[1;33m.\u001b[0m\u001b[0madd_subsystem\u001b[0m\u001b[1;33m(\u001b[0m\u001b[1;34m'grid_refinement_system'\u001b[0m\u001b[1;33m,\u001b[0m \u001b[0mgrid_refinement_system\u001b[0m\u001b[1;33m,\u001b[0m \u001b[0mpromotes\u001b[0m\u001b[1;33m=\u001b[0m\u001b[1;33m[\u001b[0m\u001b[1;34m'*'\u001b[0m\u001b[1;33m]\u001b[0m\u001b[1;33m)\u001b[0m\u001b[1;33m\u001b[0m\u001b[1;33m\u001b[0m\u001b[0m\n\u001b[1;32m--> 142\u001b[1;33m     \u001b[0mp_refine\u001b[0m\u001b[1;33m.\u001b[0m\u001b[0msetup\u001b[0m\u001b[1;33m(\u001b[0m\u001b[1;33m)\u001b[0m\u001b[1;33m\u001b[0m\u001b[1;33m\u001b[0m\u001b[0m\n\u001b[0m\u001b[0;32m    143\u001b[0m \u001b[1;33m\u001b[0m\u001b[0m\n\u001b[0;32m    144\u001b[0m     \u001b[1;31m# Set the values in the refinement problem using the outputs from the first\u001b[0m\u001b[1;33m\u001b[0m\u001b[1;33m\u001b[0m\u001b[1;33m\u001b[0m\u001b[0m\n",
      "\u001b[1;32m~\\Anaconda3\\envs\\mdao\\lib\\site-packages\\openmdao\\core\\problem.py\u001b[0m in \u001b[0;36msetup\u001b[1;34m(self, check, logger, mode, force_alloc_complex, distributed_vector_class, local_vector_class, derivatives)\u001b[0m\n\u001b[0;32m    904\u001b[0m                                               \u001b[1;31m# src data for inputs)\u001b[0m\u001b[1;33m\u001b[0m\u001b[1;33m\u001b[0m\u001b[1;33m\u001b[0m\u001b[0m\n\u001b[0;32m    905\u001b[0m         }\n\u001b[1;32m--> 906\u001b[1;33m         \u001b[0mmodel\u001b[0m\u001b[1;33m.\u001b[0m\u001b[0m_setup\u001b[0m\u001b[1;33m(\u001b[0m\u001b[0mmodel_comm\u001b[0m\u001b[1;33m,\u001b[0m \u001b[0mmode\u001b[0m\u001b[1;33m,\u001b[0m \u001b[0mself\u001b[0m\u001b[1;33m.\u001b[0m\u001b[0m_metadata\u001b[0m\u001b[1;33m)\u001b[0m\u001b[1;33m\u001b[0m\u001b[1;33m\u001b[0m\u001b[0m\n\u001b[0m\u001b[0;32m    907\u001b[0m \u001b[1;33m\u001b[0m\u001b[0m\n\u001b[0;32m    908\u001b[0m         \u001b[1;31m# set static mode back to True in all systems in this Problem\u001b[0m\u001b[1;33m\u001b[0m\u001b[1;33m\u001b[0m\u001b[1;33m\u001b[0m\u001b[0m\n",
      "\u001b[1;32m~\\Anaconda3\\envs\\mdao\\lib\\site-packages\\openmdao\\core\\system.py\u001b[0m in \u001b[0;36m_setup\u001b[1;34m(self, comm, mode, prob_meta)\u001b[0m\n\u001b[0;32m    732\u001b[0m         \u001b[0mself\u001b[0m\u001b[1;33m.\u001b[0m\u001b[0m_setup_dynamic_shapes\u001b[0m\u001b[1;33m(\u001b[0m\u001b[1;33m)\u001b[0m\u001b[1;33m\u001b[0m\u001b[1;33m\u001b[0m\u001b[0m\n\u001b[0;32m    733\u001b[0m \u001b[1;33m\u001b[0m\u001b[0m\n\u001b[1;32m--> 734\u001b[1;33m         \u001b[0mself\u001b[0m\u001b[1;33m.\u001b[0m\u001b[0m_top_level_post_connections\u001b[0m\u001b[1;33m(\u001b[0m\u001b[0mmode\u001b[0m\u001b[1;33m)\u001b[0m\u001b[1;33m\u001b[0m\u001b[1;33m\u001b[0m\u001b[0m\n\u001b[0m\u001b[0;32m    735\u001b[0m \u001b[1;33m\u001b[0m\u001b[0m\n\u001b[0;32m    736\u001b[0m         \u001b[1;31m# Now that connections are setup, we need to convert relevant vector names into their\u001b[0m\u001b[1;33m\u001b[0m\u001b[1;33m\u001b[0m\u001b[1;33m\u001b[0m\u001b[0m\n",
      "\u001b[1;32m~\\Anaconda3\\envs\\mdao\\lib\\site-packages\\openmdao\\core\\group.py\u001b[0m in \u001b[0;36m_top_level_post_connections\u001b[1;34m(self, mode)\u001b[0m\n\u001b[0;32m    717\u001b[0m \u001b[1;33m\u001b[0m\u001b[0m\n\u001b[0;32m    718\u001b[0m         \u001b[0mself\u001b[0m\u001b[1;33m.\u001b[0m\u001b[0m_resolve_group_input_defaults\u001b[0m\u001b[1;33m(\u001b[0m\u001b[1;33m)\u001b[0m\u001b[1;33m\u001b[0m\u001b[1;33m\u001b[0m\u001b[0m\n\u001b[1;32m--> 719\u001b[1;33m         \u001b[0mself\u001b[0m\u001b[1;33m.\u001b[0m\u001b[0m_setup_auto_ivcs\u001b[0m\u001b[1;33m(\u001b[0m\u001b[0mmode\u001b[0m\u001b[1;33m)\u001b[0m\u001b[1;33m\u001b[0m\u001b[1;33m\u001b[0m\u001b[0m\n\u001b[0m\u001b[0;32m    720\u001b[0m         \u001b[0mself\u001b[0m\u001b[1;33m.\u001b[0m\u001b[0m_check_prom_masking\u001b[0m\u001b[1;33m(\u001b[0m\u001b[1;33m)\u001b[0m\u001b[1;33m\u001b[0m\u001b[1;33m\u001b[0m\u001b[0m\n\u001b[0;32m    721\u001b[0m \u001b[1;33m\u001b[0m\u001b[0m\n",
      "\u001b[1;32m~\\Anaconda3\\envs\\mdao\\lib\\site-packages\\openmdao\\core\\group.py\u001b[0m in \u001b[0;36m_setup_auto_ivcs\u001b[1;34m(self, mode)\u001b[0m\n\u001b[0;32m   3367\u001b[0m \u001b[1;33m\u001b[0m\u001b[0m\n\u001b[0;32m   3368\u001b[0m         \u001b[1;32mfor\u001b[0m \u001b[0msrc\u001b[0m\u001b[1;33m,\u001b[0m \u001b[0mtgts\u001b[0m \u001b[1;32min\u001b[0m \u001b[0mauto2tgt\u001b[0m\u001b[1;33m.\u001b[0m\u001b[0mitems\u001b[0m\u001b[1;33m(\u001b[0m\u001b[1;33m)\u001b[0m\u001b[1;33m:\u001b[0m\u001b[1;33m\u001b[0m\u001b[1;33m\u001b[0m\u001b[0m\n\u001b[1;32m-> 3369\u001b[1;33m             tgt, _, val, remote = self._get_auto_ivc_out_val(tgts, vars2gather,\n\u001b[0m\u001b[0;32m   3370\u001b[0m                                                              all_abs2meta, abs2meta)\n\u001b[0;32m   3371\u001b[0m \u001b[1;33m\u001b[0m\u001b[0m\n",
      "\u001b[1;32m~\\Anaconda3\\envs\\mdao\\lib\\site-packages\\openmdao\\core\\group.py\u001b[0m in \u001b[0;36m_get_auto_ivc_out_val\u001b[1;34m(self, tgts, vars_to_gather, all_abs2meta_in, abs2meta_in)\u001b[0m\n\u001b[0;32m   3296\u001b[0m                     \u001b[0mval\u001b[0m \u001b[1;33m=\u001b[0m \u001b[0mvalue\u001b[0m\u001b[1;33m\u001b[0m\u001b[1;33m\u001b[0m\u001b[0m\n\u001b[0;32m   3297\u001b[0m                 \u001b[1;32melse\u001b[0m\u001b[1;33m:\u001b[0m\u001b[1;33m\u001b[0m\u001b[1;33m\u001b[0m\u001b[0m\n\u001b[1;32m-> 3298\u001b[1;33m                     \u001b[0mval\u001b[0m\u001b[1;33m[\u001b[0m\u001b[1;33m:\u001b[0m\u001b[1;33m]\u001b[0m \u001b[1;33m=\u001b[0m \u001b[0mvalue\u001b[0m\u001b[1;33m\u001b[0m\u001b[1;33m\u001b[0m\u001b[0m\n\u001b[0m\u001b[0;32m   3299\u001b[0m \u001b[1;33m\u001b[0m\u001b[0m\n\u001b[0;32m   3300\u001b[0m                 \u001b[1;32mif\u001b[0m \u001b[0mtgt\u001b[0m \u001b[1;32mnot\u001b[0m \u001b[1;32min\u001b[0m \u001b[0mvars_to_gather\u001b[0m\u001b[1;33m:\u001b[0m\u001b[1;33m\u001b[0m\u001b[1;33m\u001b[0m\u001b[0m\n",
      "\u001b[1;31mValueError\u001b[0m: could not broadcast input array from shape (40) into shape (75)"
     ]
    }
   ],
   "source": [
    "dm.run_problem(p, refine_iteration_limit=3, solution_record_file='min_time_climb.db')"
   ]
  },
  {
   "cell_type": "markdown",
   "metadata": {},
   "source": [
    "**Get the explicitly simulated solution and plot the results**"
   ]
  },
  {
   "cell_type": "code",
   "execution_count": null,
   "metadata": {},
   "outputs": [],
   "source": [
    "exp_out = traj.simulate()\n",
    "\n",
    "plot_results([('traj.phase0.timeseries.time', 'traj.phase0.timeseries.states:h',\n",
    "               'time (s)', 'altitude (m)'),\n",
    "              ('traj.phase0.timeseries.time', 'traj.phase0.timeseries.controls:alpha',\n",
    "               'time (s)', 'alpha (deg)')],\n",
    "             title='Supersonic Minimum Time-to-Climb Solution',\n",
    "             p_sol=p, p_sim=exp_out)\n",
    "\n",
    "plot_results([('traj.phase0.timeseries.states:r', 'traj.phase0.timeseries.states:h',\n",
    "               'downrange (m)', 'altitude (m)')],\n",
    "             title='Supersonic Minimum Time-to-Climb Solution',\n",
    "             p_sol=p, p_sim=exp_out)\n",
    "\n",
    "plt.show()"
   ]
  }
 ],
 "metadata": {
  "kernelspec": {
   "display_name": "Python 3",
   "language": "python",
   "name": "python3"
  },
  "language_info": {
   "codemirror_mode": {
    "name": "ipython",
    "version": 3
   },
   "file_extension": ".py",
   "mimetype": "text/x-python",
   "name": "python",
   "nbconvert_exporter": "python",
   "pygments_lexer": "ipython3",
   "version": "3.8.3"
  }
 },
 "nbformat": 4,
 "nbformat_minor": 4
}
